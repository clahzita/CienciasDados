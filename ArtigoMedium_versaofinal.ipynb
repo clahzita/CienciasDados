{
  "nbformat": 4,
  "nbformat_minor": 0,
  "metadata": {
    "colab": {
      "name": "ArtigoMedium-versaofinal.ipynb",
      "version": "0.3.2",
      "provenance": [],
      "collapsed_sections": [],
      "toc_visible": true
    },
    "kernelspec": {
      "name": "python3",
      "display_name": "Python 3"
    }
  },
  "cells": [
    {
      "cell_type": "markdown",
      "metadata": {
        "id": "0mY2iSakOaL8",
        "colab_type": "text"
      },
      "source": [
        "# Análise e Visualização Espacial de Dados Reais em Python com Folium \n",
        "Estudo sobre o Fluxo de Voos nas Capitais do Nordeste Brasileiro"
      ]
    },
    {
      "cell_type": "markdown",
      "metadata": {
        "id": "uwGto0UgPm5y",
        "colab_type": "text"
      },
      "source": [
        "Importação das bibliotecas necessárias para manipulação de arquivos CSV e criação e manipulação de mapas."
      ]
    },
    {
      "cell_type": "code",
      "metadata": {
        "id": "hYf6i13sOZGQ",
        "colab_type": "code",
        "colab": {}
      },
      "source": [
        "#Importando as bibliotecas necessárias para analise dos dados\n",
        "import pandas as pd\n",
        "import numpy as np\n",
        "import folium\n",
        "import json\n",
        "from folium import plugins\n",
        "import requests\n"
      ],
      "execution_count": 0,
      "outputs": []
    },
    {
      "cell_type": "code",
      "metadata": {
        "id": "t_Rr5QSrXp7D",
        "colab_type": "code",
        "colab": {}
      },
      "source": [
        "# install the latest version of folium\n",
        "!pip install folium==0.8.2"
      ],
      "execution_count": 0,
      "outputs": []
    },
    {
      "cell_type": "code",
      "metadata": {
        "id": "gQ2oTPu4OYV0",
        "colab_type": "code",
        "colab": {}
      },
      "source": [
        "#checking folium version\n",
        "folium.__version__"
      ],
      "execution_count": 0,
      "outputs": []
    },
    {
      "cell_type": "code",
      "metadata": {
        "id": "S2vbM-iRXote",
        "colab_type": "code",
        "colab": {}
      },
      "source": [
        "# install the latest version of requests\n",
        "!pip install requests==v2.21.0"
      ],
      "execution_count": 0,
      "outputs": []
    },
    {
      "cell_type": "markdown",
      "metadata": {
        "id": "3UdaYxjSYNOx",
        "colab_type": "text"
      },
      "source": [
        "2 - Ler os dados sobre aeroportos disponiveis no portal de dados abertos da ANAC (Agência Brasileira de Aviação Civil)."
      ]
    },
    {
      "cell_type": "code",
      "metadata": {
        "id": "alEli4vEYf1v",
        "colab_type": "code",
        "colab": {}
      },
      "source": [
        "url_aeroportos_publicos = 'https://drive.google.com/uc?authuser=0&id=1xHhzSTRDr6apDqeE5WWElet09HJ-msxj&export=download'"
      ],
      "execution_count": 0,
      "outputs": []
    },
    {
      "cell_type": "code",
      "metadata": {
        "id": "3aM6haU-ZPXY",
        "colab_type": "code",
        "colab": {}
      },
      "source": [
        "aeroportos_publicos =pd.read_csv(url_aeroportos_publicos,error_bad_lines=False, encoding=\"latin-1\",sep=';')\n",
        "aeroportos_publicos.info()"
      ],
      "execution_count": 0,
      "outputs": []
    },
    {
      "cell_type": "markdown",
      "metadata": {
        "id": "qyPGVKbtdjoJ",
        "colab_type": "text"
      },
      "source": [
        "3 - Em seguida, é preciso deixar apenas os dados que vamos precisar e descartar colunas não necessárias."
      ]
    },
    {
      "cell_type": "code",
      "metadata": {
        "id": "vEyviaypiy3I",
        "colab_type": "code",
        "colab": {}
      },
      "source": [
        "aeroportos_publicos = aeroportos_publicos.drop(aeroportos_publicos.columns[7:], axis=1)\n",
        "aeroportos_publicos = aeroportos_publicos\n",
        "aeroportos_publicos.columns = aeroportos_publicos.iloc[1]\n",
        "aeroportos_publicos= aeroportos_publicos.reindex(aeroportos_publicos.index.drop(0))\n",
        "aeroportos_publicos= aeroportos_publicos.reindex(aeroportos_publicos.index.drop(1))\n",
        "aeroportos_publicos = aeroportos_publicos.reset_index(drop=True)\n",
        "aeroportos_publicos.head()"
      ],
      "execution_count": 0,
      "outputs": []
    },
    {
      "cell_type": "markdown",
      "metadata": {
        "id": "103GYi8KeJ5P",
        "colab_type": "text"
      },
      "source": [
        "4 - Agora, é preciso retirar todos os aeroportos que não pertencem ao Nordeste."
      ]
    },
    {
      "cell_type": "code",
      "metadata": {
        "id": "rlO_xLmReHRF",
        "colab_type": "code",
        "colab": {}
      },
      "source": [
        "todos_estados_sem_nordeste=['AC','AM','AP','PA','RO','RR','TO','GO','MS','MT','ES','MG','RJ','SP','PR','RS','SC','DF']"
      ],
      "execution_count": 0,
      "outputs": []
    },
    {
      "cell_type": "code",
      "metadata": {
        "id": "ey_x5tiM49hu",
        "colab_type": "code",
        "colab": {}
      },
      "source": [
        "#dropando estados diferentes do nordeste\n",
        "def retirar_estados(df):\n",
        "  for estado in todos_estados_sem_nordeste:\n",
        "    aeroportos_publicos.drop(aeroportos_publicos[aeroportos_publicos.UF == estado].index,inplace = True)\n",
        "retirar_estados(aeroportos_publicos)\n",
        "aeroportos_publicos = aeroportos_publicos.reset_index(drop=True)\n",
        "aeroportos_publicos.head()"
      ],
      "execution_count": 0,
      "outputs": []
    },
    {
      "cell_type": "markdown",
      "metadata": {
        "id": "Nd81uiVmehar",
        "colab_type": "text"
      },
      "source": [
        "5 - Agora que temos um dataframe apenas com informações de aeroportos da Região Nordeste do Brasil, é preciso transformar as informações de latitude e longitude para o formato que o Folium entende."
      ]
    },
    {
      "cell_type": "code",
      "metadata": {
        "id": "79xFMsv8yKEb",
        "colab_type": "code",
        "colab": {}
      },
      "source": [
        "aeroportos_publicos.LATITUDE = (aeroportos_publicos.LATITUDE.str.split(r'[°\\'\"]', expand=True)).iloc[:, :3].astype('float').dot([1, 1./60, 1./3600])*-1"
      ],
      "execution_count": 0,
      "outputs": []
    },
    {
      "cell_type": "code",
      "metadata": {
        "id": "DonxcvFfe1s0",
        "colab_type": "code",
        "colab": {}
      },
      "source": [
        "aeroportos_publicos.LATITUDE.head()"
      ],
      "execution_count": 0,
      "outputs": []
    },
    {
      "cell_type": "code",
      "metadata": {
        "id": "7Cf73EUQD2mr",
        "colab_type": "code",
        "colab": {}
      },
      "source": [
        "aeroportos_publicos.LONGITUDE = aeroportos_publicos.LONGITUDE.str.split(r'[°\\'\"]', expand=True).iloc[:, :3].astype('float').dot([1, 1./60, 1./3600])*-1"
      ],
      "execution_count": 0,
      "outputs": []
    },
    {
      "cell_type": "code",
      "metadata": {
        "id": "lDd1wPRrfPq7",
        "colab_type": "code",
        "colab": {}
      },
      "source": [
        "aeroportos_publicos.LONGITUDE.head()"
      ],
      "execution_count": 0,
      "outputs": []
    },
    {
      "cell_type": "markdown",
      "metadata": {
        "id": "j6zz03ZMfcYA",
        "colab_type": "text"
      },
      "source": [
        "6 - Agora que ja temos um dataframe com todas as informações do Nordeste, precisamos usar Folium para visualizar o mapa da Região Nordeste."
      ]
    },
    {
      "cell_type": "code",
      "metadata": {
        "id": "HTdZ875K7IgJ",
        "colab_type": "code",
        "colab": {}
      },
      "source": [
        "# configure a generical header\n",
        "headers = {\n",
        "    'Content-Type': 'application/json;charset=UTF-8',\n",
        "    'User-Agent': 'google-colab',\n",
        "    'Accept': 'application/json, text/plain, */*',\n",
        "    'Accept-Encoding': 'gzip, deflate, br',\n",
        "    'Accept-Language': 'pt-BR,pt;q=0.9,en-US;q=0.8,en;q=0.7',\n",
        "    'Connection': 'keep-alive',\n",
        "}"
      ],
      "execution_count": 0,
      "outputs": []
    },
    {
      "cell_type": "code",
      "metadata": {
        "id": "G7MEpHjzt8VS",
        "colab_type": "code",
        "colab": {}
      },
      "source": [
        "#Criando mapa com zoom no nordeste brasileiro\n",
        "mapa_nordeste = folium.Map(location=[-8.8864889,-39.6786708],zoom_start=5.3,\n",
        "                           tiles='Stamen Terrain')"
      ],
      "execution_count": 0,
      "outputs": []
    },
    {
      "cell_type": "code",
      "metadata": {
        "id": "1nBuy2LPsUVW",
        "colab_type": "code",
        "colab": {}
      },
      "source": [
        "estado_jsons = requests.get(\"https://servicodados.ibge.gov.br/api/v2/malhas/2/?formato=application/vnd.geo+json&resolucao=2\",\n",
        "                           headers=headers)\n",
        "estado_json = estado_jsons.json()\n",
        "estado_json2 = estado_json\n",
        "folium.GeoJson(estado_json).add_to(mapa_nordeste)\n",
        "\n",
        "mapa_nordeste"
      ],
      "execution_count": 0,
      "outputs": []
    },
    {
      "cell_type": "markdown",
      "metadata": {
        "id": "mGIAdJNagYh9",
        "colab_type": "text"
      },
      "source": [
        "7 - Agora, que já conseguimos ver o mapa do Nordeste, podemos colcoar marcadores nos pontos de cada aeroporto que temos no dataframe."
      ]
    },
    {
      "cell_type": "code",
      "metadata": {
        "id": "rnoIxUTBD-Bg",
        "colab_type": "code",
        "colab": {}
      },
      "source": [
        "aeroportos_publicos.head()"
      ],
      "execution_count": 0,
      "outputs": []
    },
    {
      "cell_type": "code",
      "metadata": {
        "id": "3NOJ8vP7rfEH",
        "colab_type": "code",
        "colab": {}
      },
      "source": [
        "tiles = ['openstreetmap','Mapbox Bright','Mapbox Control Room',\n",
        "        'stamenterrain','stamenterrain','stamentoner',\n",
        "        'stamenwatercolor','cartodbpositron','cartodbdark_matter']\n",
        "for tiles_ in tiles: \n",
        "  folium.TileLayer(tiles_).add_to(mapa_nordeste)\n",
        "folium.LayerControl().add_to(mapa_nordeste)\n",
        "\n",
        "mapa_nordeste"
      ],
      "execution_count": 0,
      "outputs": []
    },
    {
      "cell_type": "code",
      "metadata": {
        "id": "4qzVnaAK-gv-",
        "colab_type": "code",
        "colab": {}
      },
      "source": [
        "for counter in range(134):\n",
        "  folium.Marker([aeroportos_publicos.LATITUDE[counter],aeroportos_publicos.LONGITUDE[counter]], \n",
        "               popup='<ul><li><h5>'+aeroportos_publicos.NOME[counter]+'</li></h5><ul><li>'\n",
        "                +aeroportos_publicos['UF'][counter]+'</li><li>'+aeroportos_publicos['MUNICÍPIO ATENDIDO'][counter]+'</ul></li></ul>',\n",
        "               tooltip=aeroportos_publicos['CÓDIGO OACI'][counter],\n",
        "               icon=folium.Icon(color='blue',\n",
        "                    icon_color='black',\n",
        "                    icon='plane',\n",
        "                    prefix='fa')).add_to(mapa_nordeste)\n",
        "  \n",
        "  mapa_nordeste"
      ],
      "execution_count": 0,
      "outputs": []
    },
    {
      "cell_type": "code",
      "metadata": {
        "id": "OWIFC_3nT6Cg",
        "colab_type": "code",
        "colab": {}
      },
      "source": [
        "#cluster_inutil\n",
        "data = np.array(\n",
        "    [\n",
        "        aeroportos_publicos['LATITUDE'],aeroportos_publicos['LONGITUDE']\n",
        "    ]\n",
        ").T\n",
        "\n",
        "# Create a map\n",
        "m = folium.Map(\n",
        "    location=[-8.8864889,-39.6786708],zoom_start=5.3,\n",
        "    tiles='Stamen Terrain'\n",
        ")\n",
        "\n",
        "plugins.MarkerCluster(data).add_to(m)\n",
        "estado_jsons = requests.get(\"https://servicodados.ibge.gov.br/api/v2/malhas/2/?formato=application/vnd.geo+json&resolucao=2\",\n",
        "                           headers=headers)\n",
        "estado_json = estado_jsons.json()\n",
        "folium.GeoJson(estado_json).add_to(m)\n",
        "m"
      ],
      "execution_count": 0,
      "outputs": []
    },
    {
      "cell_type": "markdown",
      "metadata": {
        "id": "S1K6S5N1M5td",
        "colab_type": "text"
      },
      "source": [
        "# Analisando Dados de Emigração e Imigração de Aeroportos do Nordeste Brasileiro (2018)"
      ]
    },
    {
      "cell_type": "code",
      "metadata": {
        "id": "rJSS0aiN57dc",
        "colab_type": "code",
        "colab": {}
      },
      "source": [
        "#Pegar lista aeroportos do nordeste a partir da tabela de aeroportos publicos\n",
        "estados_ne_2018_dict = {}\n",
        "\n",
        "siglas_ne_list = list(aeroportos_fed_ne_dict)\n",
        "\n",
        "for sigla_estado in siglas_ne_list:\n",
        "  estados_ne_2018_dict[sigla_estado] = aeroportos_publicos[aeroportos_publicos['UF']==sigla_estado]['CÓDIGO OACI']\n",
        "\n",
        "estados_ne_2018_dict['AL']"
      ],
      "execution_count": 0,
      "outputs": []
    },
    {
      "cell_type": "code",
      "metadata": {
        "id": "vNxF84L4X-nn",
        "colab_type": "code",
        "colab": {}
      },
      "source": [
        "aeroportos_rn = aeroportos_publicos[aeroportos_publicos['UF']=='RN']['CÓDIGO OACI']\n",
        "aeroportos_rn"
      ],
      "execution_count": 0,
      "outputs": []
    },
    {
      "cell_type": "code",
      "metadata": {
        "id": "CcQcK4jdTpRM",
        "colab_type": "code",
        "colab": {}
      },
      "source": [
        "def clean_df_2018(df_mes):\n",
        "  df_mes = pd.DataFrame(df_mes, columns=['ICAO Aeródromo Origem',\t'ICAO Aeródromo Destino', 'Situação Voo'])\n",
        "  df_mes.columns = ['aeroporto_origem', 'aeroporto_destino', 'situacao']\n",
        "  df_mes =  df_mes[(df_mes.situacao == 'REALIZADO')]\n",
        "  df_mes.reset_index(drop=True)\n",
        "  return df_mes"
      ],
      "execution_count": 0,
      "outputs": []
    },
    {
      "cell_type": "code",
      "metadata": {
        "id": "SkuWoSUlKYfj",
        "colab_type": "code",
        "colab": {}
      },
      "source": [
        "#Caminhos para tabelas que contém informações do histórico de voo em 2018\n",
        "url_fixo_2018 = 'http://www.anac.gov.br/assuntos/dados-e-estatisticas/percentuais-de-atrasos-e-cancelamentos-2/2018/vra'\n",
        "urls_csv_2018 = ['-01_2018.csv', '-02_2018.csv', '_032018.csv',\n",
        "                '_04.csv', '_05.csv', '_062018.csv', \n",
        "                '_072018.csv', '_082018.csv', '_092018.csv', \n",
        "                 '_102018.csv', '_112018.csv', '_122018.csv'] \n"
      ],
      "execution_count": 0,
      "outputs": []
    },
    {
      "cell_type": "code",
      "metadata": {
        "id": "2ccJjHphN-ka",
        "colab_type": "code",
        "colab": {}
      },
      "source": [
        "frames2018 = []\n",
        "for url_csv in urls_csv_2018:\n",
        "  df = clean_df_2018(pd.read_csv( url_fixo_2018 + url_csv ,error_bad_lines=False, encoding=\"latin-1\",sep=';'))\n",
        "  frames2018.append(df)"
      ],
      "execution_count": 0,
      "outputs": []
    },
    {
      "cell_type": "code",
      "metadata": {
        "id": "FveXUkqduHVY",
        "colab_type": "code",
        "colab": {}
      },
      "source": [
        "result_df_2018 = pd.concat(frames2018, ignore_index=True)\n",
        "result_df_2018.info()\n",
        "result_df_2018.loc[1,'aeroporto_origem']"
      ],
      "execution_count": 0,
      "outputs": []
    },
    {
      "cell_type": "code",
      "metadata": {
        "id": "OgkMEIAxhx6T",
        "colab_type": "code",
        "colab": {}
      },
      "source": [
        "#Alagoas(1), Bahia(2), Ceará(1), Maranhão (3) , Paraiba(2), Pernambuco(2), Piaui(2), RN(1), Sergipe(1)\n",
        "aeroportos_fed_ne_list = ['SBMO',\n",
        "                          'SBIL','SBUF',\n",
        "                          'SBJU',\n",
        "                          'SBIZ', 'SBSL', 'SNCW',\n",
        "                          'SBJP', 'SBKG',\n",
        "                          'SBPL','SBRF',\n",
        "                          'SBPB','SBTE',\n",
        "                          'SBNT','SBSG',\n",
        "                          'SBAR']\n",
        "\n",
        "aeroportos_fed_ne_dict = {'AL':['SBMO'],\n",
        "                          'BA':['SBIL','SBUF'],\n",
        "                          'CE':['SBJU'],\n",
        "                          'MA':['SBIZ', 'SBSL', 'SNCW'],\n",
        "                          'PB':['SBJP', 'SBKG'],\n",
        "                          'PE':['SBPL','SBRF'],\n",
        "                          'PI':['SBPB','SBTE'],\n",
        "                          'RN':['SBNT','SBSG'],\n",
        "                          'SE':['SBAR']}"
      ],
      "execution_count": 0,
      "outputs": []
    },
    {
      "cell_type": "code",
      "metadata": {
        "id": "R6UZWRjXuZjq",
        "colab_type": "code",
        "colab": {}
      },
      "source": [
        "#Contando quantidade de voos que originam de aeroportos federais do nordeste\n",
        "voos_origem_estados_ne_2018 = {}\n",
        "\n",
        "voos_destino_estados_ne_2018 = {}\n",
        "\n",
        "for estado,aeroportos in aeroportos_fed_ne_dict.items():\n",
        "  voos_origem_estados_ne_2018[estado] = 0\n",
        "  voos_destino_estados_ne_2018[estado] = 0\n",
        "  for aero in aeroportos:\n",
        "    voos_origem_estados_ne_2018[estado] += result_df_2018[(result_df_2018.aeroporto_origem == aero)].count()[0]\n",
        "    voos_destino_estados_ne_2018[estado] += result_df_2018[(result_df_2018.aeroporto_destino == aero)].count()[0]"
      ],
      "execution_count": 0,
      "outputs": []
    },
    {
      "cell_type": "code",
      "metadata": {
        "id": "ZGEznbc0u7q9",
        "colab_type": "code",
        "colab": {}
      },
      "source": [
        "#Transformando o dicionario com dados sobre emigração dos aeroportos do nordeste em dataframe\n",
        "voos_origem_ne_df_2018 = pd.DataFrame.from_dict({\"QTD_VOOS_ORIGEM\":voos_origem_estados_ne_2018})\n",
        "voos_origem_ne_df_2018.index.name = \"SIGLA\"\n",
        "voos_origem_ne_df_2018"
      ],
      "execution_count": 0,
      "outputs": []
    },
    {
      "cell_type": "code",
      "metadata": {
        "id": "Fu9YdFHNv2a9",
        "colab_type": "code",
        "colab": {}
      },
      "source": [
        "#Transformando o dicionario com dados sobre imigração dos aeroportos do nordeste em dataframe\n",
        "voos_destino_ne_df_2018 = pd.DataFrame.from_dict({'QTD_VOOS_DESTINO':voos_destino_estados_ne_2018})\n",
        "voos_destino_ne_df_2018.index.name = \"SIGLA\"\n",
        "voos_destino_ne_df_2018"
      ],
      "execution_count": 0,
      "outputs": []
    },
    {
      "cell_type": "code",
      "metadata": {
        "id": "phdHk_9ynllt",
        "colab_type": "code",
        "colab": {}
      },
      "source": [
        "states = requests.get(\"https://servicodados.ibge.gov.br/api/v1/localidades/regioes/2/estados\",\n",
        "                       headers=headers).json()\n",
        "\n",
        "states_northeast = [estados[\"nome\"] for estados in states]\n",
        "states_id = [estados[\"id\"] for estados in states]\n",
        "state_initials = [estados[\"sigla\"] for estados in states]\n",
        "data_northeast = pd.DataFrame.from_dict({'ID':states_id,'ESTADO':states_northeast,\"SIGLA\":state_initials})\n"
      ],
      "execution_count": 0,
      "outputs": []
    },
    {
      "cell_type": "code",
      "metadata": {
        "id": "uGkXNN8ywMzy",
        "colab_type": "code",
        "colab": {}
      },
      "source": [
        "final_data_2018 = pd.merge(left = data_northeast,right = voos_origem_ne_df_2018,on=\"SIGLA\",how= \"outer\")\n",
        "final_data_2018.set_index('ID', inplace=True)\n",
        "final_data_2018"
      ],
      "execution_count": 0,
      "outputs": []
    },
    {
      "cell_type": "code",
      "metadata": {
        "id": "wsmS98eHxxoK",
        "colab_type": "code",
        "colab": {}
      },
      "source": [
        "final_data_2018_chegada = pd.merge(left = data_northeast,right = voos_destino_ne_df_2018,on=\"SIGLA\",how= \"outer\")\n",
        "final_data_2018_chegada.set_index('ID', inplace=True)\n",
        "final_data_2018_chegada"
      ],
      "execution_count": 0,
      "outputs": []
    },
    {
      "cell_type": "code",
      "metadata": {
        "id": "s8XqkblTyean",
        "colab_type": "code",
        "colab": {}
      },
      "source": [
        "for state in estado_json2['features']: \n",
        "  codarea = state['properties']['codarea']\n",
        "  state['properties']['sigla'] = str(final_data_2018.loc[int(codarea), \"SIGLA\"])\n",
        "  state['properties']['qtd_voos'] = str(final_data_2018.loc[int(codarea), \"QTD_VOOS_ORIGEM\"])"
      ],
      "execution_count": 0,
      "outputs": []
    },
    {
      "cell_type": "code",
      "metadata": {
        "id": "eFS2VvXuyNqs",
        "colab_type": "code",
        "colab": {}
      },
      "source": [
        "for state in estado_json2['features']: \n",
        "  codarea = state['properties']['codarea']\n",
        "  state['properties']['sigla'] = str(final_data_2018_chegada.loc[int(codarea), \"SIGLA\"])\n",
        "  state['properties']['qtd_voos'] = str(final_data_2018_chegada.loc[int(codarea), \"QTD_VOOS_DESTINO\"])"
      ],
      "execution_count": 0,
      "outputs": []
    },
    {
      "cell_type": "code",
      "metadata": {
        "id": "_G25W-NLysDh",
        "colab_type": "code",
        "colab": {}
      },
      "source": [
        "#Criando Choropleth 2018 Imigração\n",
        "z = folium.Map(\n",
        "    location=[-8.8864889,-39.6786708],zoom_start=5.3,\n",
        "    tiles='Stamen Terrain'\n",
        ")\n",
        "\n",
        "bins = np.linspace(final_data_2018['QTD_VOOS_ORIGEM'].min(),\n",
        "                   final_data_2018['QTD_VOOS_ORIGEM'].max(),\n",
        "                   10).tolist()\n",
        "\n",
        "\n",
        "folium.Choropleth(\n",
        "    geo_data=estado_json,\n",
        "    data=final_data_2018,\n",
        "    name= \"ID\",\n",
        "    columns=['SIGLA', 'QTD_VOOS_ORIGEM'],\n",
        "    key_on='feature.properties.sigla',\n",
        "    fill_color='Reds',\n",
        "    fill_opacity=0.7,\n",
        "    line_opacity=0.5,\n",
        "    legend_name='#Voos Saindo do Nordeste 2018',\n",
        "    bins=bins\n",
        ").add_to(z)\n",
        "\n",
        "folium.LayerControl().add_to(z)\n",
        "\n",
        "z"
      ],
      "execution_count": 0,
      "outputs": []
    },
    {
      "cell_type": "code",
      "metadata": {
        "id": "ySygU-wLy4ze",
        "colab_type": "code",
        "colab": {}
      },
      "source": [
        "#Criando Choropleth 2013 Emigração\n",
        "u = folium.Map(\n",
        "    location=[-8.8864889,-39.6786708],zoom_start=5.3,\n",
        "    tiles='Stamen Terrain'\n",
        ")\n",
        "\n",
        "bins = np.linspace(final_data_2018_chegada['QTD_VOOS_DESTINO'].min(),\n",
        "                   final_data_2018_chegada['QTD_VOOS_DESTINO'].max(),\n",
        "                   10).tolist()\n",
        "\n",
        "\n",
        "folium.Choropleth(\n",
        "    geo_data=estado_json2,\n",
        "    data=final_data_2018_chegada,\n",
        "    name= \"ID\",\n",
        "    columns=['SIGLA', 'QTD_VOOS_DESTINO'],\n",
        "    key_on='feature.properties.sigla',\n",
        "    fill_color='Reds',\n",
        "    fill_opacity=0.7,\n",
        "    line_opacity=0.5,\n",
        "    legend_name='#Voos Chegando no Nordeste',\n",
        "    bins=bins\n",
        ").add_to(u)\n",
        "\n",
        "folium.LayerControl().add_to(u)\n",
        "\n",
        "u"
      ],
      "execution_count": 0,
      "outputs": []
    },
    {
      "cell_type": "code",
      "metadata": {
        "id": "dW0p96lCnxj8",
        "colab_type": "code",
        "colab": {}
      },
      "source": [
        ""
      ],
      "execution_count": 0,
      "outputs": []
    },
    {
      "cell_type": "code",
      "metadata": {
        "id": "ioHzi-oE4YaX",
        "colab_type": "code",
        "colab": {}
      },
      "source": [
        ""
      ],
      "execution_count": 0,
      "outputs": []
    }
  ]
}